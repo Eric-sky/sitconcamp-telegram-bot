{
 "cells": [
  {
   "cell_type": "code",
   "execution_count": 3,
   "metadata": {
    "collapsed": true
   },
   "outputs": [],
   "source": [
    "# import 一大堆lib\n",
    "import telepot\n",
    "from telepot.loop import MessageLoop\n",
    "from telepot.namedtuple import (\n",
    "    ReplyKeyboardMarkup, \n",
    "    KeyboardButton,\n",
    "    InlineKeyboardMarkup,\n",
    "    InlineKeyboardButton\n",
    ")\n",
    "from random import choice\n",
    "import json"
   ]
  },
  {
   "cell_type": "code",
   "execution_count": 5,
   "metadata": {
    "collapsed": true
   },
   "outputs": [],
   "source": [
    "# 記得改token\n",
    "# 記得改token\n",
    "# 記得改token\n",
    "TOKEN = '406778162:AAFugYJShkVRcD7VqzdzT6vhS0GmTPYbMlw'"
   ]
  },
  {
   "cell_type": "code",
   "execution_count": 8,
   "metadata": {
    "collapsed": true
   },
   "outputs": [],
   "source": [
    "def print_msg(msg):\n",
    "    print(json.dumps(msg, indent=4))\n",
    "\n",
    "def on_chat(msg):\n",
    "    header = telepot.glance(msg, flavor=\"chat\")\n",
    "    \n",
    "    print_msg(msg)\n",
    "\n",
    "    if header[0] == \"text\":\n",
    "        text = msg[\"text\"]\n",
    "        \n",
    "        # 當開頭有\"/\"時，忽略掉它\n",
    "        if text.startswith(\"/\"):\n",
    "            command = text.lstrip(\"/\")\n",
    "            \n",
    "            # Let's START!!\n",
    "            if command == \"start\":\n",
    "                text = '想跟人起爭議嗎？找\"圖戰機器人\"吧！'\n",
    "                bot.sendMessage(header[2], text)\n",
    "        # other msg\n",
    "            elif command == '黑人問號':\n",
    "                image_url = \"http://i.imgur.com/u4N3wpJ.jpg\"\n",
    "                bot.sendPhoto(header[2], image_url)\n",
    "        else: \n",
    "            # 你在工殺小\n",
    "            image_url = \"https://i.imgur.com/64rWKQWl.jpg\"\n",
    "            bot.sendPhoto(header[2], image_url)"
   ]
  },
  {
   "cell_type": "code",
   "execution_count": 9,
   "metadata": {},
   "outputs": [
    {
     "name": "stdout",
     "output_type": "stream",
     "text": [
      "Listening ...\n",
      "{\n",
      "    \"message_id\": 428,\n",
      "    \"from\": {\n",
      "        \"id\": 406463602,\n",
      "        \"first_name\": \"Ian\",\n",
      "        \"last_name\": \"Liao\"\n",
      "    },\n",
      "    \"chat\": {\n",
      "        \"id\": -1001113956597,\n",
      "        \"title\": \"\\u516b\\u5c0f\\u968a 2017 SITCON \\u590f\\u4ee4\\u71df\",\n",
      "        \"type\": \"supergroup\"\n",
      "    },\n",
      "    \"date\": 1502887526,\n",
      "    \"new_chat_participant\": {\n",
      "        \"id\": 431681149,\n",
      "        \"first_name\": \"MuseBot\\ud83c\\udfb5\",\n",
      "        \"username\": \"lyricszh_bot\"\n",
      "    },\n",
      "    \"new_chat_member\": {\n",
      "        \"id\": 431681149,\n",
      "        \"first_name\": \"MuseBot\\ud83c\\udfb5\",\n",
      "        \"username\": \"lyricszh_bot\"\n",
      "    },\n",
      "    \"new_chat_members\": [\n",
      "        {\n",
      "            \"id\": 431681149,\n",
      "            \"first_name\": \"MuseBot\\ud83c\\udfb5\",\n",
      "            \"username\": \"lyricszh_bot\"\n",
      "        }\n",
      "    ]\n",
      "}\n",
      "{\n",
      "    \"message_id\": 143,\n",
      "    \"from\": {\n",
      "        \"id\": 347625729,\n",
      "        \"first_name\": \"\\u5c0f\\u66f9\",\n",
      "        \"username\": \"TaiPwnLa\",\n",
      "        \"language_code\": \"zh-TW\"\n",
      "    },\n",
      "    \"chat\": {\n",
      "        \"id\": 347625729,\n",
      "        \"first_name\": \"\\u5c0f\\u66f9\",\n",
      "        \"username\": \"TaiPwnLa\",\n",
      "        \"type\": \"private\"\n",
      "    },\n",
      "    \"date\": 1502887982,\n",
      "    \"text\": \"/\\u9ed1\\u4eba\\u554f\\u865f\"\n",
      "}\n",
      "{\n",
      "    \"message_id\": 145,\n",
      "    \"from\": {\n",
      "        \"id\": 347625729,\n",
      "        \"first_name\": \"\\u5c0f\\u66f9\",\n",
      "        \"username\": \"TaiPwnLa\",\n",
      "        \"language_code\": \"zh-TW\"\n",
      "    },\n",
      "    \"chat\": {\n",
      "        \"id\": 347625729,\n",
      "        \"first_name\": \"\\u5c0f\\u66f9\",\n",
      "        \"username\": \"TaiPwnLa\",\n",
      "        \"type\": \"private\"\n",
      "    },\n",
      "    \"date\": 1502888097,\n",
      "    \"text\": \"asd\"\n",
      "}\n"
     ]
    }
   ],
   "source": [
    "bot = telepot.Bot(TOKEN)\n",
    "MessageLoop(bot, {\n",
    "    'chat': on_chat\n",
    "}).run_as_thread()\n",
    "\n",
    "print('Listening ...')"
   ]
  }
 ],
 "metadata": {
  "kernelspec": {
   "display_name": "Python 3",
   "language": "python",
   "name": "python3"
  },
  "language_info": {
   "codemirror_mode": {
    "name": "ipython",
    "version": 3
   },
   "file_extension": ".py",
   "mimetype": "text/x-python",
   "name": "python",
   "nbconvert_exporter": "python",
   "pygments_lexer": "ipython3",
   "version": "3.6.1"
  }
 },
 "nbformat": 4,
 "nbformat_minor": 2
}
